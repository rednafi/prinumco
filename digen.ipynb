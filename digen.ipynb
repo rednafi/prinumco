{
 "cells": [
  {
   "cell_type": "code",
   "execution_count": 14,
   "metadata": {},
   "outputs": [],
   "source": [
    "from PIL import Image\n",
    "from PIL import ImageDraw\n",
    "from PIL import ImageFont\n",
    "import os \n",
    "from glob import glob\n",
    "from tqdm import tqdm\n",
    "import numpy as np\n",
    "import matplotlib.pyplot as plt\n",
    "import pandas\n",
    "import shutil\n",
    "\n",
    "\n",
    "# making directories\n",
    "for i in range(10):\n",
    "    if not os.path.exists(\"train\"):\n",
    "        os.mkdir('train')\n",
    "        \n",
    "    if not os.path.exists('test'):\n",
    "        os.mkdir('test')\n",
    "        \n",
    "    if not os.path.exists('train/'+ str(i)):\n",
    "        os.mkdir('train/'+ str(i))\n",
    "        \n",
    "    if not os.path.exists('test/'+ str(i)):\n",
    "        os.mkdir('test/'+ str(i))\n",
    "    \n",
    "    else:\n",
    "        pass\n",
    "        \n",
    "    \n",
    "    "
   ]
  },
  {
   "cell_type": "markdown",
   "metadata": {},
   "source": [
    "### checking the fonts"
   ]
  },
  {
   "cell_type": "code",
   "execution_count": 15,
   "metadata": {},
   "outputs": [
    {
     "data": {
      "text/plain": [
       "58"
      ]
     },
     "execution_count": 15,
     "metadata": {},
     "output_type": "execute_result"
    }
   ],
   "source": [
    "path = '/usr/share/fonts/truetype/custom/'\n",
    "files = [f for f in glob(path + \"**/*.ttf\", recursive=True)]\n",
    "\n",
    "files.pop(55)\n",
    "len(files)"
   ]
  },
  {
   "cell_type": "code",
   "execution_count": 16,
   "metadata": {},
   "outputs": [],
   "source": [
    "def digit_generator(digit = '1', font_name = '/usr/share/fonts/truetype/custom/HindSiliguri-Regular.ttf',\n",
    "                    font_size = 265, x_pos= 50, y_pos = -60, color = (255,255,255)):\n",
    "    \n",
    "    img = Image.new('RGB', (256, 256), color = color)\n",
    "    d = ImageDraw.Draw(img)\n",
    "    font = ImageFont.truetype(font=font_name, size = font_size)\n",
    "    d.text((x_pos, y_pos), digit, fill=(0, 0, 0), font=font)\n",
    "    return img"
   ]
  },
  {
   "cell_type": "markdown",
   "metadata": {},
   "source": [
    "### train dataset gen"
   ]
  },
  {
   "cell_type": "code",
   "execution_count": 17,
   "metadata": {
    "scrolled": true
   },
   "outputs": [
    {
     "name": "stderr",
     "output_type": "stream",
     "text": [
      "58it [00:06,  9.05it/s]\n"
     ]
    }
   ],
   "source": [
    "digits_bns = \"০ ১ ২ ৩ ৪ ৫ ৬ ৭ ৮ ৯\".split()\n",
    "digits_ens = \"0 1 2 3 4 5 6 7 8 9\".split()\n",
    "color_list = [(255,255,255), (255, 255, 204), (255, 153, 102), (102, 255, 51), (0, 0, 255), (255, 0, 102) ]\n",
    "color_names = ['white', 'yellow', 'orange', 'green', 'blue', 'red']\n",
    "\n",
    "for idx, font_name in tqdm(enumerate(files)):\n",
    "    for jdx, (digit_bn, digit_en) in enumerate(zip(digits_bns,digits_ens)):\n",
    "        for kdx, (color, color_name) in enumerate(zip(color_list, color_names)): \n",
    "            try:\n",
    "                img = digit_generator(digit = digit_bn, font_name = font_name, color = color)\n",
    "                img.save('train/{}/{}_{}_{}.jpg'.format(digit_en,idx,jdx,color_name))\n",
    "            except:\n",
    "                pass"
   ]
  },
  {
   "cell_type": "markdown",
   "metadata": {},
   "source": [
    "### test dataset gen"
   ]
  },
  {
   "cell_type": "code",
   "execution_count": null,
   "metadata": {
    "scrolled": true
   },
   "outputs": [
    {
     "name": "stderr",
     "output_type": "stream",
     "text": [
      "9it [00:07,  1.19it/s]"
     ]
    }
   ],
   "source": [
    "font_sizes = np.arange(150,200,1)\n",
    "digits_bns = \"০ ১ ২ ৩ ৪ ৫ ৬ ৭ ৮ ৯\".split()\n",
    "digits_ens = \"0 1 2 3 4 5 6 7 8 9\".split()\n",
    "\n",
    "for idx, font_name in tqdm(enumerate(files)):\n",
    "    for jdx, font_size in enumerate(font_sizes):\n",
    "        for kdx, (digit_bn, digit_en) in enumerate(zip(digits_bns,digits_ens)): \n",
    "            try:\n",
    "                img = digit_generator(digit = digit_bn, font_name = font_name, font_size=font_size)\n",
    "                img.save('test/{}/{}_{}_{}.jpg'.format(digit_en,idx,jdx,kdx))\n",
    "            except:\n",
    "                pass"
   ]
  },
  {
   "cell_type": "markdown",
   "metadata": {},
   "source": [
    "### image augmentation\n"
   ]
  },
  {
   "cell_type": "code",
   "execution_count": 18,
   "metadata": {},
   "outputs": [],
   "source": [
    "import Augmentor"
   ]
  },
  {
   "cell_type": "code",
   "execution_count": 19,
   "metadata": {},
   "outputs": [],
   "source": [
    "def augmentation(folder, sample=100000):\n",
    "    p = Augmentor.Pipeline(folder)\n",
    "    p.rotate90(probability=0.1)\n",
    "    p.rotate270(probability=0.1)\n",
    "    p.crop_random(probability=1, percentage_area=0.9)\n",
    "    p.zoom(probability=0.5, min_factor=1.01, max_factor=1.03)\n",
    "    p.skew_tilt(probability = 0.5)\n",
    "    p.skew_left_right(probability = 0.2)\n",
    "    p.skew_top_bottom(probability = 0.6)\n",
    "    p.skew_corner(probability = 0.1)\n",
    "    p.skew(probability = 0.33)\n",
    "    p.sample(sample, multi_threaded=True)\n",
    "    \n",
    "     "
   ]
  },
  {
   "cell_type": "code",
   "execution_count": 20,
   "metadata": {},
   "outputs": [
    {
     "name": "stderr",
     "output_type": "stream",
     "text": [
      "\r",
      "Executing Pipeline:   0%|          | 0/100 [00:00<?, ? Samples/s]"
     ]
    },
    {
     "name": "stdout",
     "output_type": "stream",
     "text": [
      "Initialised with 3420 image(s) found.\n",
      "Output directory set to train/output."
     ]
    },
    {
     "name": "stderr",
     "output_type": "stream",
     "text": [
      "Processing <PIL.Image.Image image mode=RGB size=230x230 at 0x7F0200C67D68>: 100%|██████████| 100/100 [00:00<00:00, 184.44 Samples/s]\n"
     ]
    }
   ],
   "source": [
    "augmentation('train/', sample=100)"
   ]
  },
  {
   "cell_type": "markdown",
   "metadata": {},
   "source": [
    "### copying to the original folder"
   ]
  },
  {
   "cell_type": "code",
   "execution_count": 23,
   "metadata": {},
   "outputs": [
    {
     "name": "stderr",
     "output_type": "stream",
     "text": [
      "  0%|          | 0/10 [00:00<?, ?it/s]\n",
      "  0%|          | 0/12 [00:00<?, ?it/s]\u001b[A\n",
      "100%|██████████| 12/12 [00:00<00:00, 12246.14it/s]\u001b[A\n",
      "  0%|          | 0/8 [00:00<?, ?it/s]\u001b[A\n",
      "100%|██████████| 8/8 [00:00<00:00, 12995.52it/s]\u001b[A\n",
      "  0%|          | 0/14 [00:00<?, ?it/s]\u001b[A\n",
      "100%|██████████| 14/14 [00:00<00:00, 8682.58it/s]\u001b[A\n",
      "  0%|          | 0/13 [00:00<?, ?it/s]\u001b[A\n",
      "100%|██████████| 13/13 [00:00<00:00, 7317.94it/s]\u001b[A\n",
      "  0%|          | 0/10 [00:00<?, ?it/s]\u001b[A\n",
      "100%|██████████| 10/10 [00:00<00:00, 5366.31it/s]\u001b[A\n",
      "  0%|          | 0/11 [00:00<?, ?it/s]\u001b[A\n",
      "100%|██████████| 11/11 [00:00<00:00, 6254.21it/s]\u001b[A\n",
      "  0%|          | 0/15 [00:00<?, ?it/s]\u001b[A\n",
      "100%|██████████| 15/15 [00:00<00:00, 7413.92it/s]\u001b[A\n",
      "  0%|          | 0/6 [00:00<?, ?it/s]\u001b[A\n",
      "100%|██████████| 6/6 [00:00<00:00, 6011.90it/s]\u001b[A\n",
      "  0%|          | 0/8 [00:00<?, ?it/s]\u001b[A\n",
      "100%|██████████| 8/8 [00:00<00:00, 7430.12it/s]\u001b[A\n",
      "  0%|          | 0/3 [00:00<?, ?it/s]\u001b[A\n",
      "100%|██████████| 10/10 [00:00<00:00, 254.07it/s][A\n"
     ]
    }
   ],
   "source": [
    "# moving the augmented images to the corresponding folders \n",
    "def copytree(src, dst, symlinks=False, ignore=None):\n",
    "    if not os.path.exists(dst):\n",
    "        os.makedirs(dst)\n",
    "    for item in tqdm(os.listdir(src)):\n",
    "        s = os.path.join(src, item)\n",
    "        d = os.path.join(dst, item)\n",
    "        if os.path.isdir(s):\n",
    "            copytree(s, d, symlinks, ignore)\n",
    "        else:\n",
    "            if not os.path.exists(d) or os.stat(s).st_mtime - os.stat(d).st_mtime > 1:\n",
    "                shutil.copy2(s, d)\n",
    "\n",
    "# removing the original augmented folder\n",
    "def remove_output():\n",
    "    shutil.rmtree('train/output')\n",
    "    \n",
    "    \n",
    "src = 'train/output'\n",
    "dst = 'train/'\n",
    "copytree(src, dst)\n",
    "remove_output()\n"
   ]
  },
  {
   "cell_type": "code",
   "execution_count": 27,
   "metadata": {},
   "outputs": [
    {
     "name": "stderr",
     "output_type": "stream",
     "text": [
      "58it [00:05, 10.86it/s]\n",
      "58it [00:40,  1.37it/s]\n",
      "Processing <PIL.Image.Image image mode=RGB size=230x230 at 0x7F0200BC2A58>:   1%|          | 1/100 [00:00<00:16,  5.90 Samples/s]"
     ]
    },
    {
     "name": "stdout",
     "output_type": "stream",
     "text": [
      "Initialised with 3620 image(s) found.\n",
      "Output directory set to train/output."
     ]
    },
    {
     "name": "stderr",
     "output_type": "stream",
     "text": [
      "Processing <PIL.Image.Image image mode=RGB size=230x230 at 0x7F0201517AC8>: 100%|██████████| 100/100 [00:00<00:00, 285.54 Samples/s]\n",
      "  0%|          | 0/10 [00:00<?, ?it/s]\n",
      "  0%|          | 0/6 [00:00<?, ?it/s]\u001b[A\n",
      "100%|██████████| 6/6 [00:00<00:00, 1474.96it/s]\u001b[A\n",
      "  0%|          | 0/10 [00:00<?, ?it/s]\u001b[A\n",
      "100%|██████████| 10/10 [00:00<00:00, 1714.06it/s]\u001b[A\n",
      "  0%|          | 0/9 [00:00<?, ?it/s]\u001b[A\n",
      "100%|██████████| 9/9 [00:00<00:00, 896.15it/s]\u001b[A\n",
      "  0%|          | 0/10 [00:00<?, ?it/s]\u001b[A\n",
      "100%|██████████| 10/10 [00:00<00:00, 4195.56it/s]\u001b[A\n",
      "  0%|          | 0/10 [00:00<?, ?it/s]\u001b[A\n",
      "100%|██████████| 10/10 [00:00<00:00, 5790.84it/s]\u001b[A\n",
      "  0%|          | 0/13 [00:00<?, ?it/s]\u001b[A\n",
      "100%|██████████| 13/13 [00:00<00:00, 4775.44it/s]\u001b[A\n",
      "  0%|          | 0/7 [00:00<?, ?it/s]\u001b[A\n",
      "100%|██████████| 7/7 [00:00<00:00, 3283.40it/s]\u001b[A\n",
      "  0%|          | 0/9 [00:00<?, ?it/s]\u001b[A\n",
      "100%|██████████| 9/9 [00:00<00:00, 2712.03it/s]\u001b[A\n",
      "  0%|          | 0/15 [00:00<?, ?it/s]\u001b[A\n",
      "100%|██████████| 15/15 [00:00<00:00, 3093.45it/s]\u001b[A\n",
      "  0%|          | 0/11 [00:00<?, ?it/s]\u001b[A\n",
      "100%|██████████| 10/10 [00:00<00:00, 170.39it/s]]\u001b[A\n"
     ]
    }
   ],
   "source": [
    "from PIL import Image\n",
    "from PIL import ImageDraw\n",
    "from PIL import ImageFont\n",
    "import os \n",
    "from glob import glob\n",
    "from tqdm import tqdm\n",
    "import numpy as np\n",
    "import matplotlib.pyplot as plt\n",
    "import pandas\n",
    "import Augmentor\n",
    "import shutil    \n",
    "\n",
    "# making directories\n",
    "def directory_generator():\n",
    "    for i in range(10):\n",
    "        if not os.path.exists(\"train\"):\n",
    "            os.mkdir('train')\n",
    "\n",
    "        if not os.path.exists('test'):\n",
    "            os.mkdir('test')\n",
    "            \n",
    "        if not os.path.exists('train/'+ str(i)):\n",
    "            os.mkdir('train/'+ str(i))\n",
    "            \n",
    "        if not os.path.exists('test/'+ str(i)):\n",
    "            os.mkdir('test/' + str(i))\n",
    "            \n",
    "        else:\n",
    "            pass\n",
    "\n",
    "\n",
    "# checking the fonts\n",
    "def check_fonts():\n",
    "\n",
    "    \"\"\"\n",
    "    Make a directory named 'custom' in the 'usr/share/fonts/truetype' path and copy the bangla fonts there. \n",
    "    \"\"\"\n",
    "    path = '/usr/share/fonts/truetype/custom/'\n",
    "    files = [f for f in glob(path + \"**/*.ttf\", recursive=True)]\n",
    "\n",
    "    files.pop(55) # this one cause issue\n",
    "    return files\n",
    "\n",
    "\n",
    "# digit generation\n",
    "def digit_generator(digit = '1', font_name = '/usr/share/fonts/truetype/custom/HindSiliguri-Regular.ttf',\n",
    "                    font_size = 265, x_pos= 50, y_pos = -60, color = (255,255,255)):\n",
    "    \n",
    "    img = Image.new('RGB', (256, 256), color = color)\n",
    "    d = ImageDraw.Draw(img)\n",
    "    font = ImageFont.truetype(font=font_name, size = font_size)\n",
    "    d.text((x_pos, y_pos), digit, fill=(0, 0, 0), font=font)\n",
    "    return img\n",
    "\n",
    "\n",
    "# train data generation\n",
    "def train_datagen(fonts, color_list, color_names):\n",
    "    \"\"\"\n",
    "    color_list is a list of tuples like (255,255,255) and color_names represents the corresponding names.\n",
    "    ------------------------------------------------------------------------------------------------------\n",
    "    Example:\n",
    "    color_list = [(255,255,255), (255, 255, 204), (255, 153, 102), (102, 255, 51), (0, 0, 255), (255, 0, 102)]\n",
    "    color_names = color_names = ['white', 'yellow', 'orange', 'green', 'blue', 'red']\n",
    "    ------------------------------------------------------------------------------------------------------\n",
    "    \"\"\"\n",
    "    digits_bns = \"০ ১ ২ ৩ ৪ ৫ ৬ ৭ ৮ ৯\".split()\n",
    "    digits_ens = \"0 1 2 3 4 5 6 7 8 9\".split()\n",
    "    \n",
    "    for idx, font_name in tqdm(enumerate(fonts)):\n",
    "        for jdx, (digit_bn, digit_en) in enumerate(zip(digits_bns,digits_ens)):\n",
    "            for color, color_name in zip(color_list, color_names): \n",
    "                try:\n",
    "                    img = digit_generator(digit = digit_bn, font_name = font_name, color = color)\n",
    "                    img.save('train/{}/{}_{}_{}.jpg'.format(digit_en,idx,jdx,color_name))\n",
    "                except:\n",
    "                    pass\n",
    "\n",
    "\n",
    "# test data generation\n",
    "def test_datagen(fonts):\n",
    "    font_sizes = np.arange(150,200,1)\n",
    "    digits_bns = \"০ ১ ২ ৩ ৪ ৫ ৬ ৭ ৮ ৯\".split()\n",
    "    digits_ens = \"0 1 2 3 4 5 6 7 8 9\".split()\n",
    "\n",
    "    for idx, font_name in tqdm(enumerate(fonts)):\n",
    "        for jdx, font_size in enumerate(font_sizes):\n",
    "            for kdx, (digit_bn, digit_en) in enumerate(zip(digits_bns,digits_ens)): \n",
    "                try:\n",
    "                    img = digit_generator(digit = digit_bn, font_name = font_name, font_size=font_size)\n",
    "                    img.save('test/{}/{}_{}_{}.jpg'.format(digit_en,idx,jdx,kdx))\n",
    "                except:\n",
    "                    pass\n",
    "\n",
    "\n",
    "\n",
    "# image augmentation \n",
    "def augmentation(folder, sample=100000):\n",
    "    p = Augmentor.Pipeline(folder)\n",
    "    p.rotate90(probability=0.1)\n",
    "    p.rotate270(probability=0.1)\n",
    "    p.crop_random(probability=1, percentage_area=0.9)\n",
    "    p.zoom(probability=0.5, min_factor=1.01, max_factor=1.03)\n",
    "    p.skew_tilt(probability = 0.5)\n",
    "    p.skew_left_right(probability = 0.2)\n",
    "    p.skew_top_bottom(probability = 0.6)\n",
    "    p.skew_corner(probability = 0.1)\n",
    "    p.skew(probability = 0.33)\n",
    "    p.sample(sample, multi_threaded=True)\n",
    "\n",
    "\n",
    "# moving the augmented images to the corresponding folders \n",
    "def copytree(src, dst, symlinks=False, ignore=None):\n",
    "    if not os.path.exists(dst):\n",
    "        os.makedirs(dst)\n",
    "    for item in tqdm(os.listdir(src)):\n",
    "        s = os.path.join(src, item)\n",
    "        d = os.path.join(dst, item)\n",
    "        if os.path.isdir(s):\n",
    "            copytree(s, d, symlinks, ignore)\n",
    "        else:\n",
    "            if not os.path.exists(d) or os.stat(s).st_mtime - os.stat(d).st_mtime > 1:\n",
    "                shutil.copy2(s, d)\n",
    "\n",
    "# removing the original augmented folder\n",
    "def remove_output():\n",
    "    shutil.rmtree('train/output')\n",
    "    \n",
    "# __main__\n",
    "def main_func():\n",
    "    directory_generator()\n",
    "    fonts = check_fonts()\n",
    "    digit_generator()\n",
    "    color_list = [(255,255,255), (255, 255, 204), (255, 153, 102), (102, 255, 51), (0, 0, 255), (255, 0, 102) ]\n",
    "    color_names = ['white', 'yellow', 'orange', 'green', 'blue', 'red']\n",
    "    train_datagen(fonts, color_list, color_names)\n",
    "    test_datagen(fonts)\n",
    "    augmentation('train/', sample=100)\n",
    "    src = 'train/output'\n",
    "    dst = 'train/'\n",
    "    copytree(src, dst)\n",
    "    remove_output()\n",
    "\n",
    "\n",
    "\n",
    "main_func()\n",
    "\n",
    "\n",
    "    \n",
    "\n",
    "\n",
    "\n"
   ]
  },
  {
   "cell_type": "code",
   "execution_count": null,
   "metadata": {},
   "outputs": [],
   "source": []
  }
 ],
 "metadata": {
  "kernelspec": {
   "display_name": "Python 3",
   "language": "python",
   "name": "python3"
  },
  "language_info": {
   "codemirror_mode": {
    "name": "ipython",
    "version": 3
   },
   "file_extension": ".py",
   "mimetype": "text/x-python",
   "name": "python",
   "nbconvert_exporter": "python",
   "pygments_lexer": "ipython3",
   "version": "3.7.1"
  }
 },
 "nbformat": 4,
 "nbformat_minor": 2
}
