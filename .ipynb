{
 "cells": [
  {
   "cell_type": "code",
   "execution_count": 3,
   "metadata": {},
   "outputs": [],
   "source": [
    "from PIL import Image\n",
    "from PIL import ImageDraw\n",
    "from PIL import ImageFont\n",
    "import os \n",
    "from glob import glob\n",
    "from tqdm import tqdm\n",
    "import numpy as np\n",
    "import matplotlib.pyplot as plt\n",
    "import pandas\n",
    "\n",
    "\n",
    "# making directories\n",
    "for i in range(10):\n",
    "    if not os.path.exists(\"train\"):\n",
    "        os.mkdir('train')\n",
    "        \n",
    "    if not os.path.exists('test'):\n",
    "        os.mkdir('test')\n",
    "        \n",
    "    if not os.path.exists('train/'+ str(i)):\n",
    "        os.mkdir('train/'+ str(i))\n",
    "        \n",
    "    if not os.path.exists('test/'+ str(i)):\n",
    "        os.mkdir('test/'+ str(i))\n",
    "    \n",
    "    else:\n",
    "        pass\n",
    "        \n",
    "    \n",
    "    "
   ]
  },
  {
   "cell_type": "markdown",
   "metadata": {},
   "source": [
    "### checking the fonts"
   ]
  },
  {
   "cell_type": "code",
   "execution_count": 4,
   "metadata": {},
   "outputs": [
    {
     "data": {
      "text/plain": [
       "58"
      ]
     },
     "execution_count": 4,
     "metadata": {},
     "output_type": "execute_result"
    }
   ],
   "source": [
    "path = '/usr/share/fonts/truetype/custom/'\n",
    "files = [f for f in glob(path + \"**/*.ttf\", recursive=True)]\n",
    "\n",
    "files.pop(55)\n",
    "len(files)"
   ]
  },
  {
   "cell_type": "code",
   "execution_count": 5,
   "metadata": {},
   "outputs": [],
   "source": [
    "def digit_generator(digit = '1', font_name = '/usr/share/fonts/truetype/custom/HindSiliguri-Regular.ttf',\n",
    "                    font_size = 265, x_pos= 50, y_pos = -60, color = (255,255,255)):\n",
    "    \n",
    "    img = Image.new('RGB', (256, 256), color = color)\n",
    "    d = ImageDraw.Draw(img)\n",
    "    font = ImageFont.truetype(font=font_name, size = font_size)\n",
    "    d.text((x_pos, y_pos), digit, fill=(0, 0, 0), font=font)\n",
    "    return img"
   ]
  },
  {
   "cell_type": "markdown",
   "metadata": {},
   "source": [
    "### train dataset gen"
   ]
  },
  {
   "cell_type": "code",
   "execution_count": 7,
   "metadata": {
    "scrolled": true
   },
   "outputs": [
    {
     "name": "stderr",
     "output_type": "stream",
     "text": [
      "58it [00:05, 10.43it/s]\n"
     ]
    }
   ],
   "source": [
    "digits_bns = \"০ ১ ২ ৩ ৪ ৫ ৬ ৭ ৮ ৯\".split()\n",
    "digits_ens = \"0 1 2 3 4 5 6 7 8 9\".split()\n",
    "color_list = [(255,255,255), (255, 255, 204), (255, 153, 102), (102, 255, 51), (0, 0, 255), (255, 0, 102) ]\n",
    "color_names = ['white', 'yellow', 'orange', 'green', 'blue', 'red']\n",
    "\n",
    "for idx, font_name in tqdm(enumerate(files)):\n",
    "    for jdx, (digit_bn, digit_en) in enumerate(zip(digits_bns,digits_ens)):\n",
    "        for kdx, (color, color_name) in enumerate(zip(color_list, color_names)): \n",
    "            try:\n",
    "                img = digit_generator(digit = digit_bn, font_name = font_name, color = color)\n",
    "                img.save('train/{}/{}_{}_{}.jpg'.format(digit_en,idx,jdx,color_name))\n",
    "            except:\n",
    "                pass"
   ]
  },
  {
   "cell_type": "markdown",
   "metadata": {},
   "source": [
    "### test dataset gen"
   ]
  },
  {
   "cell_type": "code",
   "execution_count": 11,
   "metadata": {
    "scrolled": true
   },
   "outputs": [
    {
     "name": "stderr",
     "output_type": "stream",
     "text": [
      "\n",
      "0it [00:00, ?it/s]\u001b[A\n",
      "1it [00:00,  1.33it/s]\u001b[A\n",
      "2it [00:01,  1.34it/s]\u001b[A\n",
      "3it [00:02,  1.38it/s]\u001b[A\n",
      "4it [00:02,  1.40it/s]\u001b[A\n",
      "5it [00:03,  1.44it/s]\u001b[A\n",
      "6it [00:04,  1.43it/s]\u001b[A\n",
      "7it [00:04,  1.42it/s]\u001b[A\n",
      "8it [00:05,  1.39it/s]\u001b[A\n",
      "9it [00:06,  1.41it/s]\u001b[A\n",
      "10it [00:07,  1.43it/s]\u001b[A\n",
      "11it [00:07,  1.42it/s]\u001b[A\n",
      "12it [00:08,  1.38it/s]\u001b[A\n",
      "13it [00:09,  1.41it/s]\u001b[A\n",
      "14it [00:09,  1.40it/s]\u001b[A\n",
      "15it [00:10,  1.41it/s]\u001b[A\n",
      "16it [00:11,  1.43it/s]\u001b[A\n",
      "17it [00:11,  1.49it/s]\u001b[A\n",
      "18it [00:12,  1.47it/s]\u001b[A\n",
      "19it [00:13,  1.48it/s]\u001b[A\n",
      "20it [00:13,  1.49it/s]\u001b[A\n",
      "21it [00:14,  1.48it/s]\u001b[A\n",
      "22it [00:15,  1.45it/s]\u001b[A\n",
      "23it [00:15,  1.48it/s]\u001b[A\n",
      "24it [00:16,  1.47it/s]\u001b[A\n",
      "25it [00:17,  1.46it/s]\u001b[A\n",
      "26it [00:18,  1.45it/s]\u001b[A\n",
      "27it [00:18,  1.45it/s]\u001b[A\n",
      "28it [00:19,  1.43it/s]\u001b[A\n",
      "29it [00:20,  1.41it/s]\u001b[A\n",
      "30it [00:20,  1.39it/s]\u001b[A\n",
      "31it [00:21,  1.40it/s]\u001b[A\n",
      "32it [00:22,  1.40it/s]\u001b[A\n",
      "33it [00:23,  1.39it/s]\u001b[A\n",
      "34it [00:23,  1.40it/s]\u001b[A\n",
      "35it [00:24,  1.42it/s]\u001b[A\n",
      "36it [00:25,  1.39it/s]\u001b[A\n",
      "37it [00:25,  1.41it/s]\u001b[A\n",
      "38it [00:26,  1.45it/s]\u001b[A\n",
      "39it [00:27,  1.48it/s]\u001b[A\n",
      "40it [00:27,  1.43it/s]\u001b[A\n",
      "41it [00:28,  1.44it/s]\u001b[A\n",
      "42it [00:29,  1.47it/s]\u001b[A\n",
      "43it [00:30,  1.44it/s]\u001b[A\n",
      "44it [00:30,  1.43it/s]\u001b[A\n",
      "45it [00:31,  1.43it/s]\u001b[A\n",
      "46it [00:32,  1.39it/s]\u001b[A\n",
      "47it [00:32,  1.40it/s]\u001b[A\n",
      "48it [00:33,  1.42it/s]\u001b[A\n",
      "49it [00:34,  1.40it/s]\u001b[A\n",
      "50it [00:34,  1.43it/s]\u001b[A\n",
      "51it [00:35,  1.44it/s]\u001b[A\n",
      "52it [00:36,  1.45it/s]\u001b[A\n",
      "53it [00:37,  1.45it/s]\u001b[A\n",
      "54it [00:37,  1.41it/s]\u001b[A\n",
      "55it [00:38,  1.42it/s]\u001b[A\n",
      "56it [00:39,  1.38it/s]\u001b[A\n",
      "57it [00:39,  1.40it/s]\u001b[A\n",
      "58it [00:40,  1.41it/s]\u001b[A\n",
      "\u001b[A"
     ]
    }
   ],
   "source": [
    "font_sizes = np.arange(150,200,1)\n",
    "digits_bns = \"০ ১ ২ ৩ ৪ ৫ ৬ ৭ ৮ ৯\".split()\n",
    "digits_ens = \"0 1 2 3 4 5 6 7 8 9\".split()\n",
    "\n",
    "for idx, font_name in tqdm(enumerate(files)):\n",
    "    for jdx, font_size in enumerate(font_sizes):\n",
    "        for kdx, (digit_bn, digit_en) in enumerate(zip(digits_bns,digits_ens)): \n",
    "            try:\n",
    "                img = digit_generator(digit = digit_bn, font_name = font_name, font_size=font_size)\n",
    "                img.save('test/{}/{}_{}_{}.jpg'.format(digit_en,idx,jdx,kdx))\n",
    "            except:\n",
    "                pass"
   ]
  },
  {
   "cell_type": "markdown",
   "metadata": {},
   "source": [
    "### image augmentation\n"
   ]
  },
  {
   "cell_type": "code",
   "execution_count": null,
   "metadata": {},
   "outputs": [],
   "source": []
  }
 ],
 "metadata": {
  "kernelspec": {
   "display_name": "Python 3",
   "language": "python",
   "name": "python3"
  },
  "language_info": {
   "codemirror_mode": {
    "name": "ipython",
    "version": 3
   },
   "file_extension": ".py",
   "mimetype": "text/x-python",
   "name": "python",
   "nbconvert_exporter": "python",
   "pygments_lexer": "ipython3",
   "version": "3.7.1"
  }
 },
 "nbformat": 4,
 "nbformat_minor": 2
}
